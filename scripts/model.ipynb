{
 "cells": [
  {
   "cell_type": "code",
   "execution_count": 1,
   "metadata": {},
   "outputs": [
    {
     "name": "stdout",
     "output_type": "stream",
     "text": [
      "Trainer has been loaded\n",
      "Epoch 1/200\n"
     ]
    },
    {
     "ename": "ValueError",
     "evalue": "Unexpected result of `train_function` (Empty logs). Please use `Model.compile(..., run_eagerly=True)`, or `tf.config.run_functions_eagerly(True)` for more information of where went wrong, or file a issue/bug to `tf.keras`.",
     "output_type": "error",
     "traceback": [
      "\u001b[1;31m---------------------------------------------------------------------------\u001b[0m",
      "\u001b[1;31mValueError\u001b[0m                                Traceback (most recent call last)",
      "\u001b[1;32mc:\\Users\\harry\\Desktop\\DS_Projects\\crowd anomaly detection\\model.ipynb Cell 1\u001b[0m in \u001b[0;36m<cell line: 45>\u001b[1;34m()\u001b[0m\n\u001b[0;32m     <a href='vscode-notebook-cell:/c%3A/Users/harry/Desktop/DS_Projects/crowd%20anomaly%20detection/model.ipynb#W0sZmlsZQ%3D%3D?line=51'>52</a>\u001b[0m \tcallback_early_stopping \u001b[39m=\u001b[39m EarlyStopping(monitor\u001b[39m=\u001b[39m\u001b[39m'\u001b[39m\u001b[39mval_loss\u001b[39m\u001b[39m'\u001b[39m, patience\u001b[39m=\u001b[39m\u001b[39m3\u001b[39m)\n\u001b[0;32m     <a href='vscode-notebook-cell:/c%3A/Users/harry/Desktop/DS_Projects/crowd%20anomaly%20detection/model.ipynb#W0sZmlsZQ%3D%3D?line=53'>54</a>\u001b[0m \t\u001b[39mprint\u001b[39m(\u001b[39m'\u001b[39m\u001b[39mTrainer has been loaded\u001b[39m\u001b[39m'\u001b[39m)\n\u001b[1;32m---> <a href='vscode-notebook-cell:/c%3A/Users/harry/Desktop/DS_Projects/crowd%20anomaly%20detection/model.ipynb#W0sZmlsZQ%3D%3D?line=54'>55</a>\u001b[0m \tmodel\u001b[39m.\u001b[39;49mfit(X_train,Y_train,\n\u001b[0;32m     <a href='vscode-notebook-cell:/c%3A/Users/harry/Desktop/DS_Projects/crowd%20anomaly%20detection/model.ipynb#W0sZmlsZQ%3D%3D?line=55'>56</a>\u001b[0m \t\t\t  batch_size\u001b[39m=\u001b[39;49mbatch_size,\n\u001b[0;32m     <a href='vscode-notebook-cell:/c%3A/Users/harry/Desktop/DS_Projects/crowd%20anomaly%20detection/model.ipynb#W0sZmlsZQ%3D%3D?line=56'>57</a>\u001b[0m \t\t\t  epochs\u001b[39m=\u001b[39;49mepochs,\n\u001b[0;32m     <a href='vscode-notebook-cell:/c%3A/Users/harry/Desktop/DS_Projects/crowd%20anomaly%20detection/model.ipynb#W0sZmlsZQ%3D%3D?line=57'>58</a>\u001b[0m \t\t\t  callbacks \u001b[39m=\u001b[39;49m [callback_save,callback_early_stopping]\n\u001b[0;32m     <a href='vscode-notebook-cell:/c%3A/Users/harry/Desktop/DS_Projects/crowd%20anomaly%20detection/model.ipynb#W0sZmlsZQ%3D%3D?line=58'>59</a>\u001b[0m \t\t\t  )\n\u001b[0;32m     <a href='vscode-notebook-cell:/c%3A/Users/harry/Desktop/DS_Projects/crowd%20anomaly%20detection/model.ipynb#W0sZmlsZQ%3D%3D?line=60'>61</a>\u001b[0m \u001b[39mprint\u001b[39m(\u001b[39m'\u001b[39m\u001b[39mDone\u001b[39m\u001b[39m\\n\u001b[39;00m\u001b[39m Please wait while AnomalyDetector.h5 has been created \u001b[39m\u001b[39m\\n\u001b[39;00m\u001b[39mRefresh when needed\u001b[39m\u001b[39m'\u001b[39m)\n",
      "File \u001b[1;32mc:\\Users\\harry\\AppData\\Local\\Programs\\Python\\Python310\\lib\\site-packages\\keras\\utils\\traceback_utils.py:67\u001b[0m, in \u001b[0;36mfilter_traceback.<locals>.error_handler\u001b[1;34m(*args, **kwargs)\u001b[0m\n\u001b[0;32m     65\u001b[0m \u001b[39mexcept\u001b[39;00m \u001b[39mException\u001b[39;00m \u001b[39mas\u001b[39;00m e:  \u001b[39m# pylint: disable=broad-except\u001b[39;00m\n\u001b[0;32m     66\u001b[0m   filtered_tb \u001b[39m=\u001b[39m _process_traceback_frames(e\u001b[39m.\u001b[39m__traceback__)\n\u001b[1;32m---> 67\u001b[0m   \u001b[39mraise\u001b[39;00m e\u001b[39m.\u001b[39mwith_traceback(filtered_tb) \u001b[39mfrom\u001b[39;00m \u001b[39mNone\u001b[39m\n\u001b[0;32m     68\u001b[0m \u001b[39mfinally\u001b[39;00m:\n\u001b[0;32m     69\u001b[0m   \u001b[39mdel\u001b[39;00m filtered_tb\n",
      "File \u001b[1;32mc:\\Users\\harry\\AppData\\Local\\Programs\\Python\\Python310\\lib\\site-packages\\keras\\engine\\training.py:1420\u001b[0m, in \u001b[0;36mModel.fit\u001b[1;34m(self, x, y, batch_size, epochs, verbose, callbacks, validation_split, validation_data, shuffle, class_weight, sample_weight, initial_epoch, steps_per_epoch, validation_steps, validation_batch_size, validation_freq, max_queue_size, workers, use_multiprocessing)\u001b[0m\n\u001b[0;32m   1418\u001b[0m logs \u001b[39m=\u001b[39m tf_utils\u001b[39m.\u001b[39msync_to_numpy_or_python_type(logs)\n\u001b[0;32m   1419\u001b[0m \u001b[39mif\u001b[39;00m logs \u001b[39mis\u001b[39;00m \u001b[39mNone\u001b[39;00m:\n\u001b[1;32m-> 1420\u001b[0m   \u001b[39mraise\u001b[39;00m \u001b[39mValueError\u001b[39;00m(\u001b[39m'\u001b[39m\u001b[39mUnexpected result of `train_function` \u001b[39m\u001b[39m'\u001b[39m\n\u001b[0;32m   1421\u001b[0m                    \u001b[39m'\u001b[39m\u001b[39m(Empty logs). Please use \u001b[39m\u001b[39m'\u001b[39m\n\u001b[0;32m   1422\u001b[0m                    \u001b[39m'\u001b[39m\u001b[39m`Model.compile(..., run_eagerly=True)`, or \u001b[39m\u001b[39m'\u001b[39m\n\u001b[0;32m   1423\u001b[0m                    \u001b[39m'\u001b[39m\u001b[39m`tf.config.run_functions_eagerly(True)` for more \u001b[39m\u001b[39m'\u001b[39m\n\u001b[0;32m   1424\u001b[0m                    \u001b[39m'\u001b[39m\u001b[39minformation of where went wrong, or file a \u001b[39m\u001b[39m'\u001b[39m\n\u001b[0;32m   1425\u001b[0m                    \u001b[39m'\u001b[39m\u001b[39missue/bug to `tf.keras`.\u001b[39m\u001b[39m'\u001b[39m)\n\u001b[0;32m   1426\u001b[0m epoch_logs \u001b[39m=\u001b[39m copy\u001b[39m.\u001b[39mcopy(logs)\n\u001b[0;32m   1428\u001b[0m \u001b[39m# Run validation.\u001b[39;00m\n",
      "\u001b[1;31mValueError\u001b[0m: Unexpected result of `train_function` (Empty logs). Please use `Model.compile(..., run_eagerly=True)`, or `tf.config.run_functions_eagerly(True)` for more information of where went wrong, or file a issue/bug to `tf.keras`."
     ]
    }
   ],
   "source": [
    "\n",
    "from keras.callbacks import ModelCheckpoint, EarlyStopping\n",
    "import numpy as np \n",
    "import argparse\n",
    "from keras.layers import Conv3D,ConvLSTM2D,Conv3DTranspose\n",
    "from keras.models import Sequential\n",
    "\n",
    "def load_model():\n",
    "\n",
    "    model = Sequential()\n",
    "    \n",
    "    # spatiotemporal Encoder layer\n",
    "    model.add(Conv3D(filters = 128, kernel_size =(11,11,1), strides = (4,4,1), padding = 'valid', input_shape = (227,227,10,1), activation = 'tanh'))\n",
    "    model.add(Conv3D(filters=64, kernel_size = (5,5,1), strides = (2,2,1), padding = 'valid', activation = 'tanh'))\n",
    "\n",
    "    model.add(ConvLSTM2D(filters = 64, kernel_size = (3,3), strides = 1, padding = 'same', dropout = 0.4, recurrent_dropout = 0.3, return_sequences = True))\n",
    "    model.add(ConvLSTM2D(filters = 32, kernel_size = (3,3), strides = 1, padding = 'same', dropout = 0.4, return_sequences = True))\n",
    "    model.add(ConvLSTM2D(filters = 64, kernel_size = (3,3), strides = 1, padding = 'same', dropout = 0.5, return_sequences = True))\n",
    "\n",
    "    # spatiotemporal Decoder layer\n",
    "    model.add(Conv3DTranspose(filters = 128, kernel_size = (5,5,1), strides = (2,2,1), padding = 'valid', activation = 'tanh'))\n",
    "    model.add(Conv3DTranspose(filters = 1, kernel_size = (11,11,1), strides = (4,4,1), padding = 'valid', activation = 'tanh'))\n",
    "\n",
    "    model.compile(optimizer = 'adam', loss = 'mean_squared_error', metrics = ['accuracy'])\n",
    "\n",
    "    return model\n",
    "\n",
    "X_train=np.load('trainer.npy')\n",
    "frames=X_train.shape[2]\n",
    "#Need to make number of frames divisible by 10 to ease the load_model\n",
    "\n",
    "\n",
    "frames=frames-frames%10\n",
    "\n",
    "X_train=X_train[:,:,:frames]\n",
    "X_train=X_train.reshape(-1,227,227,10)\n",
    "X_train=np.expand_dims(X_train,axis=4)\n",
    "Y_train=X_train.copy()\n",
    "\n",
    "\n",
    "epochs=200\n",
    "batch_size=1\n",
    "\n",
    "\n",
    "\n",
    "if __name__==\"__main__\":\n",
    "\n",
    "\tmodel=load_model()\n",
    "\n",
    "\tcallback_save = ModelCheckpoint(\"AnomalyDetector.h5\",\n",
    "\t\t\t\t\t\t\t\t\tmonitor=\"mean_squared_error\")\n",
    "\n",
    "\tcallback_early_stopping = EarlyStopping(monitor='val_loss', patience=3)\n",
    "\n",
    "\tprint('Trainer has been loaded')\n",
    "\tmodel.fit(X_train,Y_train,\n",
    "\t\t\t  batch_size=batch_size,\n",
    "\t\t\t  epochs=epochs,\n",
    "\t\t\t  callbacks = [callback_save,callback_early_stopping]\n",
    "\t\t\t  )\n",
    "    \n",
    "print('Done\\n Please wait while AnomalyDetector.h5 has been created \\nRefresh when needed')"
   ]
  },
  {
   "cell_type": "code",
   "execution_count": null,
   "metadata": {},
   "outputs": [],
   "source": []
  }
 ],
 "metadata": {
  "kernelspec": {
   "display_name": "Python 3.10.6 64-bit",
   "language": "python",
   "name": "python3"
  },
  "language_info": {
   "codemirror_mode": {
    "name": "ipython",
    "version": 3
   },
   "file_extension": ".py",
   "mimetype": "text/x-python",
   "name": "python",
   "nbconvert_exporter": "python",
   "pygments_lexer": "ipython3",
   "version": "3.10.6"
  },
  "orig_nbformat": 4,
  "vscode": {
   "interpreter": {
    "hash": "af6e1a68a1ff66f16d4f08322d4e1f710597c8381c98fe8bc0e75d3ac14f473e"
   }
  }
 },
 "nbformat": 4,
 "nbformat_minor": 2
}
